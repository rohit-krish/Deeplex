{
 "cells": [
  {
   "cell_type": "code",
   "execution_count": 1,
   "metadata": {},
   "outputs": [],
   "source": [
    "from deeplex import nn, act_func, optim, loss_func\n",
    "from deeplex.engine import Tensor\n"
   ]
  },
  {
   "cell_type": "code",
   "execution_count": 6,
   "metadata": {},
   "outputs": [
    {
     "name": "stdout",
     "output_type": "stream",
     "text": [
      "Scaler(0.4134612895391031)\n"
     ]
    },
    {
     "name": "stdout",
     "output_type": "stream",
     "text": [
      "Scaler(0.1607097036419165)\n",
      "Scaler(0.0749836262919088)\n",
      "Scaler(0.0216188292777511)\n",
      "Scaler(0.0033535712081433685)\n",
      "Scaler(0.0002556666262188135)\n",
      "Scaler(1.2585814001875755e-05)\n",
      "Scaler(5.196909884907726e-07)\n",
      "Scaler(2.0354370231253074e-08)\n",
      "Scaler(7.8793990199438e-10)\n"
     ]
    }
   ],
   "source": [
    "class Model(nn.Module):\n",
    "    def __init__(self, n_in, n_out):\n",
    "        self.l1 = nn.Linear(n_in, 4)\n",
    "        self.l2 = nn.Linear(4, n_out)\n",
    "\n",
    "    def __call__(self, x):\n",
    "        x = act_func.relu(self.l1(x))\n",
    "        x = self.l2(x)\n",
    "        return x\n",
    "\n",
    "    def parameters(self):\n",
    "        return self.l1.parameters() + self.l2.parameters()\n",
    "\n",
    "\n",
    "# XOR mapping\n",
    "X = Tensor([[0, 0], [0, 1], [1, 0], [1, 1]])  # (4, 2)\n",
    "Y = Tensor([[0], [1], [1], [0]])  # (4, 1)\n",
    "\n",
    "model = Model(2, 1)\n",
    "\n",
    "lr = 0.07\n",
    "n_epochs = 500\n",
    "\n",
    "optimizer = optim.SGD(model.parameters(), lr=lr)\n",
    "\n",
    "for epoch_i in range(n_epochs):\n",
    "    yHat = model(X)\n",
    "    loss = loss_func.MSELoss(Y, yHat)\n",
    "\n",
    "    optimizer.zero_grad()\n",
    "    loss.backward()\n",
    "    optimizer.step()\n",
    "\n",
    "    if epoch_i % 50 == 0:\n",
    "        print(loss)\n"
   ]
  },
  {
   "cell_type": "code",
   "execution_count": 7,
   "metadata": {},
   "outputs": [
    {
     "name": "stdout",
     "output_type": "stream",
     "text": [
      "0.000010\n",
      "0.999995\n",
      "0.999998\n",
      "-0.000000\n"
     ]
    }
   ],
   "source": [
    "for p in model(X).to_numpy():\n",
    "    print('%f'%p[0])\n"
   ]
  },
  {
   "cell_type": "code",
   "execution_count": null,
   "metadata": {},
   "outputs": [],
   "source": []
  }
 ],
 "metadata": {
  "kernelspec": {
   "display_name": "Python 3",
   "language": "python",
   "name": "python3"
  },
  "language_info": {
   "codemirror_mode": {
    "name": "ipython",
    "version": 3
   },
   "file_extension": ".py",
   "mimetype": "text/x-python",
   "name": "python",
   "nbconvert_exporter": "python",
   "pygments_lexer": "ipython3",
   "version": "3.11.2"
  },
  "orig_nbformat": 4
 },
 "nbformat": 4,
 "nbformat_minor": 2
}

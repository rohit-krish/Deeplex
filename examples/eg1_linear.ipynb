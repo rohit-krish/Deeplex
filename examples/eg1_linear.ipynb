{
  "cells": [
    {
      "cell_type": "code",
      "execution_count": 2,
      "metadata": {
        "colab": {
          "base_uri": "https://localhost:8080/"
        },
        "id": "nuUuwAkEptVZ",
        "outputId": "95c4c2bc-ad56-4e8a-8686-5bed5de2c50f"
      },
      "outputs": [
        {
          "name": "stdout",
          "output_type": "stream",
          "text": [
            "Sat Aug 19 07:16:30 2023       \n",
            "+-----------------------------------------------------------------------------+\n",
            "| NVIDIA-SMI 525.105.17   Driver Version: 525.105.17   CUDA Version: 12.0     |\n",
            "|-------------------------------+----------------------+----------------------+\n",
            "| GPU  Name        Persistence-M| Bus-Id        Disp.A | Volatile Uncorr. ECC |\n",
            "| Fan  Temp  Perf  Pwr:Usage/Cap|         Memory-Usage | GPU-Util  Compute M. |\n",
            "|                               |                      |               MIG M. |\n",
            "|===============================+======================+======================|\n",
            "|   0  Tesla T4            Off  | 00000000:00:04.0 Off |                    0 |\n",
            "| N/A   50C    P8    13W /  70W |      0MiB / 15360MiB |      0%      Default |\n",
            "|                               |                      |                  N/A |\n",
            "+-------------------------------+----------------------+----------------------+\n",
            "                                                                               \n",
            "+-----------------------------------------------------------------------------+\n",
            "| Processes:                                                                  |\n",
            "|  GPU   GI   CI        PID   Type   Process name                  GPU Memory |\n",
            "|        ID   ID                                                   Usage      |\n",
            "|=============================================================================|\n",
            "|  No running processes found                                                 |\n",
            "+-----------------------------------------------------------------------------+\n"
          ]
        }
      ],
      "source": [
        "!nvidia-smi"
      ]
    },
    {
      "cell_type": "code",
      "execution_count": 3,
      "metadata": {
        "colab": {
          "base_uri": "https://localhost:8080/"
        },
        "id": "RH68fIMDocXq",
        "outputId": "a5a9fa0c-2fd5-4dfa-fc26-fce2f606f339"
      },
      "outputs": [
        {
          "name": "stdout",
          "output_type": "stream",
          "text": [
            "/content/Deeplex\n"
          ]
        }
      ],
      "source": [
        "# !git clone https://github.com/rohit-krish/Deeplex.git\n",
        "%cd Deeplex\n"
      ]
    },
    {
      "cell_type": "code",
      "execution_count": 4,
      "metadata": {
        "id": "PGFKkbGJlyOd"
      },
      "outputs": [],
      "source": [
        "import numpy as np\n",
        "\n",
        "from sklearn.datasets import load_iris\n",
        "from tqdm import tqdm\n",
        "\n",
        "from sklearn.metrics import confusion_matrix, classification_report\n",
        "import matplotlib.pyplot as plt\n",
        "import seaborn as sb\n",
        "\n",
        "from deeplex import nn, optim\n",
        "from deeplex.nn import functional as F\n",
        "from deeplex.engine import Tensor\n",
        "\n",
        "plt.style.use(plt.style.available[11])\n"
      ]
    },
    {
      "cell_type": "markdown",
      "metadata": {},
      "source": [
        "### Load the data"
      ]
    },
    {
      "cell_type": "code",
      "execution_count": 5,
      "metadata": {
        "colab": {
          "base_uri": "https://localhost:8080/"
        },
        "id": "GVP1Rqa5mBIF",
        "outputId": "068e5680-85a1-480b-9cb0-4c3a02d7d17d"
      },
      "outputs": [
        {
          "data": {
            "text/plain": [
              "((150, 4), (150, 3))"
            ]
          },
          "execution_count": 5,
          "metadata": {},
          "output_type": "execute_result"
        }
      ],
      "source": [
        "iris = load_iris()\n",
        "\n",
        "X = iris.data\n",
        "y = iris.target\n",
        "\n",
        "# one-hot encode\n",
        "Y = np.empty((len(y), len(iris.target_names)))\n",
        "for i, t in enumerate(y):\n",
        "    row = np.zeros((len(iris.target_names)))\n",
        "    row[t] = 1\n",
        "    Y[i] = row\n",
        "\n",
        "X = Tensor(X)\n",
        "Y = Tensor(Y)\n",
        "\n",
        "X.shape, Y.shape"
      ]
    },
    {
      "cell_type": "markdown",
      "metadata": {},
      "source": [
        "### Define Model"
      ]
    },
    {
      "cell_type": "code",
      "execution_count": 6,
      "metadata": {
        "id": "FmFbDNxonElb"
      },
      "outputs": [],
      "source": [
        "class Model(nn.Module):\n",
        "    def __init__(self, n_in, n_out, device):\n",
        "        super().__init__(device)\n",
        "        self.l1 = nn.Linear(n_in, 15, device=device)\n",
        "        self.l2 = nn.Linear(15, 10, device=device)\n",
        "        self.l3 = nn.Linear(10, n_out, device=device)\n",
        "\n",
        "    def __call__(self, x):\n",
        "        x = F.relu(self.l1(x))\n",
        "        x = F.relu(self.l2(x))\n",
        "        x = F.softmax(self.l3(x), axis=1)\n",
        "        return x\n"
      ]
    },
    {
      "cell_type": "markdown",
      "metadata": {},
      "source": [
        "### Training"
      ]
    },
    {
      "cell_type": "code",
      "execution_count": 8,
      "metadata": {
        "colab": {
          "base_uri": "https://localhost:8080/"
        },
        "id": "IU2jj7PmGxL4",
        "outputId": "013c118e-503c-4244-8587-3b2a2e12c6c8"
      },
      "outputs": [
        {
          "name": "stderr",
          "output_type": "stream",
          "text": [
            "100%|██████████| 200/200 [00:01<00:00, 141.13it/s, loss=0.027181247]\n"
          ]
        }
      ],
      "source": [
        "device = 'cuda'\n",
        "losses = []\n",
        "\n",
        "X.to(device)\n",
        "Y.to(device)\n",
        "\n",
        "model = Model(4, 3, device)\n",
        "\n",
        "lr = .01\n",
        "n_epochs = 200\n",
        "optimizer = optim.Adam(model.parameters(), lr=lr, device=device)\n",
        "\n",
        "loop = tqdm(range(n_epochs))\n",
        "\n",
        "for epoch_i in loop:\n",
        "    yHat = model(X)\n",
        "    loss = F.MSELoss(Y, yHat)\n",
        "\n",
        "    model.zero_grad()\n",
        "    loss.backward()\n",
        "    optimizer.step()\n",
        "\n",
        "    losses.append(loss.to('cpu').data)\n",
        "    loop.set_postfix(loss=loss.to('cpu').data)\n"
      ]
    },
    {
      "cell_type": "markdown",
      "metadata": {},
      "source": [
        "### Evaluation"
      ]
    },
    {
      "cell_type": "code",
      "execution_count": 9,
      "metadata": {
        "colab": {
          "base_uri": "https://localhost:8080/",
          "height": 484
        },
        "id": "-bjWEcKrHTTd",
        "outputId": "f3059d47-7762-4092-aed2-9a837bf57262"
      },
      "outputs": [
        {
          "data": {
            "image/png": "[encoded data removed]",
            "text/plain": [
              "<Figure size 800x550 with 1 Axes>"
            ]
          },
          "metadata": {},
          "output_type": "display_data"
        }
      ],
      "source": [
        "plt.plot(losses)\n",
        "plt.show()\n"
      ]
    },
    {
      "cell_type": "code",
      "execution_count": 10,
      "metadata": {
        "colab": {
          "base_uri": "https://localhost:8080/",
          "height": 509
        },
        "id": "JPqdbIpxQqxY",
        "outputId": "514cec28-0eb0-47d7-d45f-6c2bc9efcce5"
      },
      "outputs": [
        {
          "data": {
            "image/png": "[encoded data removed]",
            "text/plain": [
              "<Figure size 800x550 with 2 Axes>"
            ]
          },
          "metadata": {},
          "output_type": "display_data"
        }
      ],
      "source": [
        "preds = model(X).to('cpu').data\n",
        "preds = np.argmax(preds, axis=1)\n",
        "\n",
        "truth = np.argmax(Y.to('cpu').data, axis=1)\n",
        "\n",
        "cmap = confusion_matrix(truth, preds)\n",
        "sb.heatmap(cmap, annot=True)\n",
        "plt.xlabel(\"Predicted\")\n",
        "plt.ylabel(\"Truth\")\n",
        "plt.show()\n"
      ]
    },
    {
      "cell_type": "code",
      "execution_count": 11,
      "metadata": {
        "colab": {
          "base_uri": "https://localhost:8080/"
        },
        "id": "pwIONZ0MQ-u7",
        "outputId": "34e18347-7806-45d6-f305-ab2324f093f7"
      },
      "outputs": [
        {
          "name": "stdout",
          "output_type": "stream",
          "text": [
            "              precision    recall  f1-score   support\n",
            "\n",
            "           0       1.00      1.00      1.00        50\n",
            "           1       0.98      0.98      0.98        50\n",
            "           2       0.98      0.98      0.98        50\n",
            "\n",
            "    accuracy                           0.99       150\n",
            "   macro avg       0.99      0.99      0.99       150\n",
            "weighted avg       0.99      0.99      0.99       150\n",
            "\n"
          ]
        }
      ],
      "source": [
        "print(classification_report(truth, preds))"
      ]
    },
    {
      "cell_type": "code",
      "execution_count": null,
      "metadata": {
        "id": "bunfpgWlRMgv"
      },
      "outputs": [],
      "source": []
    }
  ],
  "metadata": {
    "accelerator": "GPU",
    "colab": {
      "gpuType": "T4",
      "machine_shape": "hm",
      "provenance": []
    },
    "kernelspec": {
      "display_name": "Python 3",
      "name": "python3"
    },
    "language_info": {
      "name": "python"
    }
  },
  "nbformat": 4,
  "nbformat_minor": 0
}

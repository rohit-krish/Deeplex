{
  "nbformat": 4,
  "nbformat_minor": 0,
  "metadata": {
    "colab": {
      "provenance": [],
      "machine_shape": "hm"
    },
    "kernelspec": {
      "name": "python3",
      "display_name": "Python 3"
    },
    "language_info": {
      "name": "python"
    }
  },
  "cells": [
    {
      "cell_type": "code",
      "source": [
        "!git clone https://github.com/rohit-krish/Deeplex.git\n",
        "%cd Deeplex"
      ],
      "metadata": {
        "colab": {
          "base_uri": "https://localhost:8080/"
        },
        "id": "gA87jP3R7Kav",
        "outputId": "dec6bfb8-2e0b-41ad-ceec-5060b7910c38"
      },
      "execution_count": 1,
      "outputs": [
        {
          "output_type": "stream",
          "name": "stdout",
          "text": [
            "Cloning into 'Deeplex'...\n",
            "remote: Enumerating objects: 101, done.\u001b[K\n",
            "remote: Counting objects: 100% (101/101), done.\u001b[K\n",
            "remote: Compressing objects: 100% (67/67), done.\u001b[K\n",
            "remote: Total 101 (delta 43), reused 79 (delta 29), pack-reused 0\u001b[K\n",
            "Receiving objects: 100% (101/101), 148.69 KiB | 16.52 MiB/s, done.\n",
            "Resolving deltas: 100% (43/43), done.\n"
          ]
        }
      ]
    },
    {
      "cell_type": "code",
      "source": [
        "from sklearn.datasets import fetch_openml\n",
        "\n",
        "import numpy as np\n",
        "import matplotlib.pyplot as plt\n",
        "from sklearn.model_selection import train_test_split\n",
        "\n",
        "from deeplex import nn, optim, act_func, loss_func\n",
        "from deeplex.engine import Tensor\n"
      ],
      "metadata": {
        "id": "P24H3Bkn8J_g"
      },
      "execution_count": 65,
      "outputs": []
    },
    {
      "cell_type": "markdown",
      "source": [
        "## Loading the Data"
      ],
      "metadata": {
        "id": "qQ2wUUfoBdia"
      }
    },
    {
      "cell_type": "code",
      "source": [
        "mnist = fetch_openml('mnist_784', version=1)\n",
        "X_, y_ = mnist.data, mnist.target\n",
        "X_ = X_.to_numpy()\n",
        "y_ = y_.to_numpy().astype('float')\n",
        "\n",
        "print(\"MNIST dataset loaded.\")\n",
        "print(\"X shape:\", X_.shape)\n",
        "print(\"y shape:\", y_.shape)\n"
      ],
      "metadata": {
        "colab": {
          "base_uri": "https://localhost:8080/"
        },
        "id": "56LnerGM8c2C",
        "outputId": "f907a7e8-ea3e-4e54-dae5-584730e289a1"
      },
      "execution_count": 66,
      "outputs": [
        {
          "output_type": "stream",
          "name": "stderr",
          "text": [
            "/usr/local/lib/python3.10/dist-packages/sklearn/datasets/_openml.py:968: FutureWarning: The default value of `parser` will change from `'liac-arff'` to `'auto'` in 1.4. You can set `parser='auto'` to silence this warning. Therefore, an `ImportError` will be raised from 1.4 if the dataset is dense and pandas is not installed. Note that the pandas parser may return different data types. See the Notes Section in fetch_openml's API doc for details.\n",
            "  warn(\n"
          ]
        },
        {
          "output_type": "stream",
          "name": "stdout",
          "text": [
            "MNIST dataset loaded.\n",
            "X shape: (70000, 784)\n",
            "y shape: (70000,)\n"
          ]
        }
      ]
    },
    {
      "cell_type": "code",
      "source": [
        "# since deeplex runs on cpu i'm using only small amount of data for time concerns\n",
        "_, X, _, y = train_test_split(X_, y_, test_size=.01, stratify=y_)\n",
        "X.shape, y.shape\n"
      ],
      "metadata": {
        "colab": {
          "base_uri": "https://localhost:8080/"
        },
        "id": "e8eaXN-H_jUw",
        "outputId": "bd1c4e53-cdc1-44b9-ca07-f680e9974f7e"
      },
      "execution_count": 67,
      "outputs": [
        {
          "output_type": "execute_result",
          "data": {
            "text/plain": [
              "((700, 784), (700,))"
            ]
          },
          "metadata": {},
          "execution_count": 67
        }
      ]
    },
    {
      "cell_type": "code",
      "source": [
        "# checking if the data is distributed \"equally\"\n",
        "supports = {}\n",
        "\n",
        "for i in range(10):\n",
        "    supports[i] = len(y[y == i])\n",
        "\n",
        "supports\n"
      ],
      "metadata": {
        "colab": {
          "base_uri": "https://localhost:8080/"
        },
        "id": "MxjyxNxA_1RC",
        "outputId": "08cde089-8a9c-4659-f7bf-f525c937b580"
      },
      "execution_count": 68,
      "outputs": [
        {
          "output_type": "execute_result",
          "data": {
            "text/plain": [
              "{0: 69, 1: 79, 2: 70, 3: 71, 4: 68, 5: 63, 6: 69, 7: 73, 8: 68, 9: 70}"
            ]
          },
          "metadata": {},
          "execution_count": 68
        }
      ]
    },
    {
      "cell_type": "code",
      "source": [
        "idxs = np.random.randint(0, len(X), 10)\n",
        "fig, axes = plt.subplots(2, 5, figsize=(6, 3))\n",
        "axes = axes.flatten()\n",
        "\n",
        "for idx, ax in zip(idxs, axes):\n",
        "    img = X[idx].reshape(28, 28)\n",
        "    ax.imshow(img, cmap='gray')\n",
        "    ax.set_title(y[idx])\n",
        "    ax.set_xticks([])\n",
        "    ax.set_yticks([])\n",
        "\n",
        "plt.tight_layout()\n",
        "plt.show()\n"
      ],
      "metadata": {
        "colab": {
          "base_uri": "https://localhost:8080/",
          "height": 297
        },
        "id": "A9GBopUi8qD6",
        "outputId": "51dccaad-1ba0-4314-f94f-c0779bfeeefb"
      },
      "execution_count": 69,
      "outputs": [
        {
          "output_type": "display_data",
          "data": {
            "text/plain": [
              "<Figure size 600x300 with 10 Axes>"
            ],
            "image/png": "[encoded data removed]"
          },
          "metadata": {}
        }
      ]
    },
    {
      "cell_type": "code",
      "source": [
        "class RNN(nn.Module):\n",
        "    def __init__(self, input_size, hidden_size, num_layers, num_classes):\n",
        "        self.rnn = nn.RNN(input_size, hidden_size, num_layers)\n",
        "        self.fc = nn.Linear(hidden_size*seq_len, num_classes)\n",
        "\n",
        "    def __call__(self, x):\n",
        "        out, _ = self.rnn(x)\n",
        "        out = out.reshape(len(x), -1)\n",
        "        out = self.fc(out)\n",
        "        return out\n",
        "\n",
        "    def parameters(self):\n",
        "        params = []\n",
        "        for l in self.rnn.i2h_layers:\n",
        "            params += l.parameters()\n",
        "\n",
        "        for l in self.rnn.h2h_layers:\n",
        "            params += l.parameters()\n",
        "\n",
        "        params += self.fc.parameters()\n",
        "        return params\n",
        "\n",
        "\n",
        "hidden_size = 256\n",
        "features = 28\n",
        "seq_len = 28\n",
        "n_layers = 2\n",
        "\n",
        "n_classes = 10\n",
        "lr = .001\n",
        "batch_size = 20\n",
        "n_epochs = 2\n",
        "\n",
        "model = RNN(features, hidden_size, n_layers, n_classes)\n",
        "criterion = loss_func.MSELoss\n",
        "optimizer = optim.Adam(model.parameters(), lr=lr)\n",
        "\n",
        "if len(X)//batch_size != 1:\n",
        "    X = X.reshape(len(X)//batch_size, batch_size, 28, 28)  # (n_iter, batch_size, x, y)\n",
        "    y = y.reshape(len(y)//batch_size, batch_size, 1)       # (n_iter, batch_size, x, y)\n",
        "\n",
        "print(X.shape, y.shape)\n"
      ],
      "metadata": {
        "colab": {
          "base_uri": "https://localhost:8080/"
        },
        "id": "R6Oep_vb-Aas",
        "outputId": "759bbc0a-09ab-49a1-a67b-8de4faa6bf69"
      },
      "execution_count": 88,
      "outputs": [
        {
          "output_type": "stream",
          "name": "stdout",
          "text": [
            "(35, 20, 28, 28) (35, 20, 1)\n"
          ]
        }
      ]
    },
    {
      "cell_type": "code",
      "source": [
        "for epoch_i in range(n_epochs):\n",
        "    for data, targets in zip(X, y):\n",
        "\n",
        "        # forward\n",
        "        preds = model(data)\n",
        "        print(preds.shape)\n",
        "        print(preds[0])\n",
        "        break\n",
        "    break\n"
      ],
      "metadata": {
        "id": "akMY8RNgIkin"
      },
      "execution_count": null,
      "outputs": []
    }
  ]
}
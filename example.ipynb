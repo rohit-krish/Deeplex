{
 "cells": [
  {
   "cell_type": "code",
   "execution_count": 1,
   "metadata": {},
   "outputs": [],
   "source": [
    "import numpy as np\n",
    "\n",
    "from deeplex import nn\n",
    "from deeplex.act_func import relu\n",
    "from deeplex.engine import Tensor\n"
   ]
  },
  {
   "cell_type": "code",
   "execution_count": 2,
   "metadata": {},
   "outputs": [
    {
     "name": "stdout",
     "output_type": "stream",
     "text": [
      "Scaler(1.9478840155716879)\n",
      "Scaler(0.11779522784578762)\n",
      "Scaler(0.04051370035867127)\n",
      "Scaler(0.009284198047255478)\n",
      "Scaler(0.0016540033898579582)\n",
      "Scaler(0.00027078972873152663)\n",
      "Scaler(4.260894352497645e-05)\n",
      "Scaler(6.518727868436607e-06)\n",
      "Scaler(1.01520236300816e-06)\n",
      "Scaler(1.4372318390073113e-07)\n"
     ]
    }
   ],
   "source": [
    "class Model(nn.Module):\n",
    "    def __init__(self, n_in, n_out):\n",
    "        self.l1 = nn.Linear(n_in, 4)\n",
    "        self.l2 = nn.Linear(4, n_out)\n",
    "\n",
    "    def __call__(self, x):\n",
    "        x = relu(self.l1(x))\n",
    "        x = self.l2(x)\n",
    "        return x\n",
    "\n",
    "    def parameters(self):\n",
    "        return self.l1.parameters() + self.l2.parameters()\n",
    "\n",
    "\n",
    "X = Tensor([[0, 0], [0, 1], [1, 0], [1, 1]])  # (4, 2)\n",
    "Y = Tensor([[0], [1], [1], [0]])  # (4, 1)\n",
    "\n",
    "model = Model(2, 1)\n",
    "\n",
    "lr = 0.07\n",
    "n_epochs = 500\n",
    "\n",
    "for epoch_i in range(n_epochs):\n",
    "    yHat = model(X)\n",
    "    loss = np.sum((yHat - Y) ** 2) / len(Y) # MSE Loss\n",
    "\n",
    "    model.zero_grad()\n",
    "    loss.backward()\n",
    "\n",
    "    for p in model.parameters():\n",
    "        p.data -= lr * p.grad\n",
    "\n",
    "    if epoch_i % 50 == 0:\n",
    "        print(loss)\n"
   ]
  },
  {
   "cell_type": "code",
   "execution_count": 3,
   "metadata": {},
   "outputs": [
    {
     "data": {
      "text/plain": [
       "array([[1.39322071e-04],\n",
       "       [9.99776441e-01],\n",
       "       [9.99944656e-01],\n",
       "       [1.33283413e-04]])"
      ]
     },
     "execution_count": 3,
     "metadata": {},
     "output_type": "execute_result"
    }
   ],
   "source": [
    "model(X).to_numpy()\n"
   ]
  },
  {
   "cell_type": "code",
   "execution_count": null,
   "metadata": {},
   "outputs": [],
   "source": []
  }
 ],
 "metadata": {
  "kernelspec": {
   "display_name": "Python 3",
   "language": "python",
   "name": "python3"
  },
  "language_info": {
   "codemirror_mode": {
    "name": "ipython",
    "version": 3
   },
   "file_extension": ".py",
   "mimetype": "text/x-python",
   "name": "python",
   "nbconvert_exporter": "python",
   "pygments_lexer": "ipython3",
   "version": "3.11.2"
  },
  "orig_nbformat": 4
 },
 "nbformat": 4,
 "nbformat_minor": 2
}

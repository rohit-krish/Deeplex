{
 "cells": [
  {
   "cell_type": "code",
   "execution_count": 8,
   "metadata": {},
   "outputs": [],
   "source": [
    "import numpy as np\n",
    "\n",
    "from deeplex import nn\n",
    "from deeplex.act_func import relu\n"
   ]
  },
  {
   "cell_type": "code",
   "execution_count": 39,
   "metadata": {},
   "outputs": [
    {
     "name": "stdout",
     "output_type": "stream",
     "text": [
      "Scaler(6.542885577027774)\n",
      "Scaler(0.1490182783862909)\n",
      "Scaler(1.1075938244888729e-05)\n",
      "Scaler(9.84331748338089e-07)\n",
      "Scaler(9.846787830740616e-08)\n",
      "Scaler(9.796612364781323e-09)\n",
      "Scaler(3.373747131740039e-08)\n",
      "Scaler(3.3802446513190732e-09)\n",
      "Scaler(3.885293892166055e-09)\n",
      "Scaler(1.1656645765271194e-09)\n"
     ]
    }
   ],
   "source": [
    "class Model(nn.Module):\n",
    "    def __init__(self, n_in, n_out):\n",
    "        self.l1 = nn.Linear(n_in, 4)\n",
    "        self.l2 = nn.Linear(4, n_out)\n",
    "\n",
    "    def __call__(self, x):\n",
    "        x = self.l1(x)\n",
    "        x = relu(x)\n",
    "        x = self.l2(x)\n",
    "        return x\n",
    "\n",
    "    def parameters(self):\n",
    "        return self.l1.parameters() + self.l2.parameters()\n",
    "\n",
    "\n",
    "X = nn.Tensor([[0, 0], [0, 1], [1, 0], [1, 1]])  # (4, 2)\n",
    "Y = nn.Tensor([[0], [1], [1], [0]])  # (4, 1)\n",
    "\n",
    "model = Model(2, 1)\n",
    "\n",
    "lr = 0.07\n",
    "n_epochs = 500\n",
    "\n",
    "for epoch_i in range(n_epochs):\n",
    "    yHat = model(X)\n",
    "    loss = np.sum((yHat - Y) ** 2)\n",
    "\n",
    "    model.zero_grad()\n",
    "    loss.backward()\n",
    "\n",
    "    for p in model.parameters():\n",
    "        p.data -= lr * p.grad\n",
    "\n",
    "    if epoch_i % 50 == 0:\n",
    "        print(loss)\n"
   ]
  },
  {
   "cell_type": "code",
   "execution_count": 41,
   "metadata": {},
   "outputs": [
    {
     "data": {
      "text/plain": [
       "array([[2.94084592e-06],\n",
       "       [1.00000448e+00],\n",
       "       [1.00000438e+00],\n",
       "       [8.30361106e-06]])"
      ]
     },
     "execution_count": 41,
     "metadata": {},
     "output_type": "execute_result"
    }
   ],
   "source": [
    "model(X).to_numpy()\n"
   ]
  },
  {
   "cell_type": "code",
   "execution_count": null,
   "metadata": {},
   "outputs": [],
   "source": []
  }
 ],
 "metadata": {
  "kernelspec": {
   "display_name": "Python 3",
   "language": "python",
   "name": "python3"
  },
  "language_info": {
   "codemirror_mode": {
    "name": "ipython",
    "version": 3
   },
   "file_extension": ".py",
   "mimetype": "text/x-python",
   "name": "python",
   "nbconvert_exporter": "python",
   "pygments_lexer": "ipython3",
   "version": "3.11.2"
  },
  "orig_nbformat": 4
 },
 "nbformat": 4,
 "nbformat_minor": 2
}

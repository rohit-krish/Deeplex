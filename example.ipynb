{
 "cells": [
  {
   "cell_type": "code",
   "execution_count": 1,
   "metadata": {},
   "outputs": [],
   "source": [
    "from deeplex import nn, act_func, optim, loss_func\n",
    "from deeplex.engine import Tensor\n"
   ]
  },
  {
   "cell_type": "code",
   "execution_count": 6,
   "metadata": {},
   "outputs": [
    {
     "name": "stdout",
     "output_type": "stream",
     "text": [
      "Scaler(0.6195181885673103)\n",
      "Scaler(0.11907710066571911)\n",
      "Scaler(0.09930905587357075)\n",
      "Scaler(0.06489161399932902)\n",
      "Scaler(0.029887314752620086)\n",
      "Scaler(0.011182885774375935)\n",
      "Scaler(0.004032304853526359)\n",
      "Scaler(0.0013127216253254518)\n",
      "Scaler(0.00043967522200958654)\n",
      "Scaler(0.0001444178459310744)\n"
     ]
    }
   ],
   "source": [
    "class Model(nn.Module):\n",
    "    def __init__(self, n_in, n_out):\n",
    "        self.l1 = nn.Linear(n_in, 4)\n",
    "        self.l2 = nn.Linear(4, n_out)\n",
    "\n",
    "    def __call__(self, x):\n",
    "        x = act_func.relu(self.l1(x))\n",
    "        x = self.l2(x)\n",
    "        return x\n",
    "\n",
    "    def parameters(self):\n",
    "        return self.l1.parameters() + self.l2.parameters()\n",
    "\n",
    "\n",
    "# XOR mapping\n",
    "X = Tensor([[0, 0], [0, 1], [1, 0], [1, 1]])  # (4, 2)\n",
    "Y = Tensor([[0], [1], [1], [0]])  # (4, 1)\n",
    "\n",
    "model = Model(2, 1)\n",
    "\n",
    "lr = 0.07\n",
    "n_epochs = 500\n",
    "\n",
    "optimizer = optim.SGD(model.parameters(), lr=lr)\n",
    "\n",
    "for epoch_i in range(n_epochs):\n",
    "    yHat = model(X)\n",
    "    loss = loss_func.MSELoss(Y, yHat)\n",
    "\n",
    "    optimizer.zero_grad()\n",
    "    loss.backward()\n",
    "    optimizer.step()\n",
    "\n",
    "    if epoch_i % 50 == 0:\n",
    "        print(loss)\n"
   ]
  },
  {
   "cell_type": "code",
   "execution_count": 7,
   "metadata": {},
   "outputs": [
    {
     "data": {
      "text/plain": [
       "array([[0.00219679],\n",
       "       [0.99387268],\n",
       "       [0.99614602],\n",
       "       [0.01082795]])"
      ]
     },
     "execution_count": 7,
     "metadata": {},
     "output_type": "execute_result"
    }
   ],
   "source": [
    "model(X).to_numpy()\n"
   ]
  },
  {
   "cell_type": "code",
   "execution_count": null,
   "metadata": {},
   "outputs": [],
   "source": []
  }
 ],
 "metadata": {
  "kernelspec": {
   "display_name": "Python 3",
   "language": "python",
   "name": "python3"
  },
  "language_info": {
   "codemirror_mode": {
    "name": "ipython",
    "version": 3
   },
   "file_extension": ".py",
   "mimetype": "text/x-python",
   "name": "python",
   "nbconvert_exporter": "python",
   "pygments_lexer": "ipython3",
   "version": "3.11.2"
  },
  "orig_nbformat": 4
 },
 "nbformat": 4,
 "nbformat_minor": 2
}

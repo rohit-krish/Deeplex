{
  "cells": [
    {
      "cell_type": "code",
      "execution_count": 6,
      "metadata": {
        "colab": {
          "base_uri": "https://localhost:8080/"
        },
        "id": "KhHNUmytqQGX",
        "outputId": "0b51a246-7c35-41ef-8bc7-9155888b4728"
      },
      "outputs": [
        {
          "name": "stdout",
          "output_type": "stream",
          "text": [
            "Cloning into 'Deeplex'...\n",
            "remote: Enumerating objects: 46, done.\u001b[K\n",
            "remote: Counting objects: 100% (46/46), done.\u001b[K\n",
            "remote: Compressing objects: 100% (27/27), done.\u001b[K\n",
            "remote: Total 46 (delta 17), reused 41 (delta 15), pack-reused 0\u001b[K\n",
            "Receiving objects: 100% (46/46), 87.34 KiB | 7.94 MiB/s, done.\n",
            "Resolving deltas: 100% (17/17), done.\n",
            "/content/Deeplex\n"
          ]
        }
      ],
      "source": [
        "!git clone https://github.com/rohit-krish/Deeplex.git\n",
        "%cd Deeplex\n"
      ]
    },
    {
      "cell_type": "code",
      "execution_count": 7,
      "metadata": {
        "id": "S3Qcy90Qq8DW"
      },
      "outputs": [],
      "source": [
        "import numpy as np\n",
        "from sklearn.datasets import load_iris\n",
        "import matplotlib.pyplot as plt\n",
        "from tqdm import tqdm\n",
        "\n",
        "from deeplex import nn\n",
        "from deeplex.act_func import relu, sigmoid\n",
        "from deeplex.engine import Tensor\n"
      ]
    },
    {
      "cell_type": "code",
      "execution_count": 8,
      "metadata": {
        "colab": {
          "base_uri": "https://localhost:8080/"
        },
        "id": "04H33mnTrPcl",
        "outputId": "c3218845-8671-474a-a65e-b55c7c522907"
      },
      "outputs": [
        {
          "data": {
            "text/plain": [
              "((150, 4), (150, 3))"
            ]
          },
          "execution_count": 8,
          "metadata": {},
          "output_type": "execute_result"
        }
      ],
      "source": [
        "iris = load_iris()\n",
        "\n",
        "X = iris.data\n",
        "y = iris.target\n",
        "\n",
        "# one-hot encode\n",
        "Y = np.empty((len(y), len(iris.target_names)))\n",
        "for i, t in enumerate(y):\n",
        "    row = np.zeros((len(iris.target_names)))\n",
        "    row[t] = 1\n",
        "    Y[i] = row\n",
        "\n",
        "X = Tensor(X)\n",
        "Y = Tensor(Y)\n",
        "\n",
        "X.shape, Y.shape"
      ]
    },
    {
      "cell_type": "code",
      "execution_count": 20,
      "metadata": {
        "id": "_ztn92XDrTBf"
      },
      "outputs": [],
      "source": [
        "class Model(nn.Module):\n",
        "    def __init__(self, n_in, n_out) -> None:\n",
        "        self.l1 = nn.Linear(n_in, 10)\n",
        "        self.l2 = nn.Linear(10, 4)\n",
        "        self.l3 = nn.Linear(4, n_out)\n",
        "\n",
        "    def __call__(self, x):\n",
        "        x = relu(self.l1(x))\n",
        "        x = relu(self.l2(x))\n",
        "        x = sigmoid(self.l3(x))\n",
        "        return x\n",
        "\n",
        "    def parameters(self):\n",
        "        return self.l1.parameters() + self.l2.parameters() + self.l3.parameters()\n"
      ]
    },
    {
      "cell_type": "code",
      "execution_count": 25,
      "metadata": {
        "colab": {
          "base_uri": "https://localhost:8080/"
        },
        "id": "f0oEu8JMrVwa",
        "outputId": "daa3d024-d6b2-4e57-8c6f-28bf78534577"
      },
      "outputs": [
        {
          "name": "stderr",
          "output_type": "stream",
          "text": [
            "100%|██████████| 200/200 [02:53<00:00,  1.16it/s, loss=0.09128392254982079]\n"
          ]
        }
      ],
      "source": [
        "losses = []\n",
        "model = Model(4, 3)\n",
        "\n",
        "lr = .09\n",
        "n_epochs = 400\n",
        "\n",
        "loop = tqdm(range(n_epochs))\n",
        "\n",
        "for epoch_i in loop:\n",
        "    yHat = model(X)\n",
        "    loss = np.sum((yHat - Y) ** 2) / len(Y)\n",
        "\n",
        "    model.zero_grad()\n",
        "    loss.backward()\n",
        "\n",
        "    for p in model.parameters():\n",
        "        p.data -= lr * p.grad\n",
        "\n",
        "    losses.append(loss.data)\n",
        "    loop.set_postfix(loss=loss.data)\n"
      ]
    },
    {
      "cell_type": "code",
      "execution_count": 26,
      "metadata": {
        "colab": {
          "base_uri": "https://localhost:8080/",
          "height": 430
        },
        "id": "1IKKQIag5raj",
        "outputId": "84496ab5-385f-404c-ad06-77c6122b5192"
      },
      "outputs": [
        {
          "data": {
            "image/png": "[encoded data removed]",
            "text/plain": [
              "<Figure size 640x480 with 1 Axes>"
            ]
          },
          "metadata": {},
          "output_type": "display_data"
        }
      ],
      "source": [
        "plt.plot(losses)\n",
        "plt.show()\n"
      ]
    },
    {
      "cell_type": "code",
      "execution_count": 29,
      "metadata": {
        "colab": {
          "base_uri": "https://localhost:8080/"
        },
        "id": "fgix_AcGrZv6",
        "outputId": "a5a59474-8969-4de7-f5de-6ee254ec2dbb"
      },
      "outputs": [
        {
          "data": {
            "text/plain": [
              "(Tensor([Scaler(4.9), Scaler(3.0), Scaler(1.4), Scaler(0.2)], dtype=object),\n",
              " Tensor([Scaler(1.0), Scaler(0.0), Scaler(0.0)], dtype=object))"
            ]
          },
          "execution_count": 29,
          "metadata": {},
          "output_type": "execute_result"
        }
      ],
      "source": [
        "X[1], Y[1]"
      ]
    },
    {
      "cell_type": "code",
      "execution_count": 32,
      "metadata": {
        "colab": {
          "base_uri": "https://localhost:8080/"
        },
        "id": "CVohjd7lrhBd",
        "outputId": "a0f01db5-704d-430d-ef6a-00db7c9e0d71"
      },
      "outputs": [
        {
          "data": {
            "text/plain": [
              "array([[0.97597864, 0.007742  , 0.00915128]])"
            ]
          },
          "execution_count": 32,
          "metadata": {},
          "output_type": "execute_result"
        }
      ],
      "source": [
        "model(X[1].to_numpy().reshape(1, -1)).to_numpy()"
      ]
    },
    {
      "cell_type": "code",
      "execution_count": null,
      "metadata": {
        "id": "AEjOra7xcrs7"
      },
      "outputs": [],
      "source": []
    }
  ],
  "metadata": {
    "colab": {
      "gpuType": "T4",
      "provenance": []
    },
    "kernelspec": {
      "display_name": "Python 3",
      "name": "python3"
    },
    "language_info": {
      "name": "python"
    }
  },
  "nbformat": 4,
  "nbformat_minor": 0
}

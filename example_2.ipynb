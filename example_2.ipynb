{
  "nbformat": 4,
  "nbformat_minor": 0,
  "metadata": {
    "colab": {
      "provenance": []
    },
    "kernelspec": {
      "name": "python3",
      "display_name": "Python 3"
    },
    "language_info": {
      "name": "python"
    }
  },
  "cells": [
    {
      "cell_type": "code",
      "source": [
        "!git clone https://github.com/rohit-krish/Deeplex.git\n",
        "%cd Deeplex"
      ],
      "metadata": {
        "colab": {
          "base_uri": "https://localhost:8080/"
        },
        "id": "crW-4BN7NskQ",
        "outputId": "ba52eea3-f3df-40d5-9fc5-c9c2a9ea5c46"
      },
      "execution_count": 33,
      "outputs": [
        {
          "output_type": "stream",
          "name": "stdout",
          "text": [
            "Cloning into 'Deeplex'...\n",
            "remote: Enumerating objects: 93, done.\u001b[K\n",
            "remote: Counting objects: 100% (93/93), done.\u001b[K\n",
            "remote: Compressing objects: 100% (60/60), done.\u001b[K\n",
            "remote: Total 93 (delta 40), reused 74 (delta 28), pack-reused 0\u001b[K\n",
            "Receiving objects: 100% (93/93), 114.14 KiB | 3.80 MiB/s, done.\n",
            "Resolving deltas: 100% (40/40), done.\n",
            "/content/Deeplex\n"
          ]
        }
      ]
    },
    {
      "cell_type": "code",
      "source": [
        "import numpy as np\n",
        "from sklearn.datasets import load_iris\n",
        "from tqdm import tqdm\n",
        "\n",
        "from sklearn.metrics import confusion_matrix, classification_report\n",
        "import matplotlib.pyplot as plt\n",
        "import seaborn as sb\n",
        "\n",
        "from deeplex import nn, act_func, optim, loss_func\n",
        "from deeplex.engine import Tensor\n",
        "\n",
        "plt.style.use(plt.style.available[11])"
      ],
      "metadata": {
        "id": "yb9FvQbRNumT"
      },
      "execution_count": 68,
      "outputs": []
    },
    {
      "cell_type": "code",
      "source": [
        "iris = load_iris()\n",
        "\n",
        "X = iris.data\n",
        "y = iris.target\n",
        "\n",
        "# one-hot encode\n",
        "Y = np.empty((len(y), len(iris.target_names)))\n",
        "for i, t in enumerate(y):\n",
        "    row = np.zeros((len(iris.target_names)))\n",
        "    row[t] = 1\n",
        "    Y[i] = row\n",
        "\n",
        "X = Tensor(X)\n",
        "Y = Tensor(Y)\n",
        "\n",
        "X.shape, Y.shape"
      ],
      "metadata": {
        "colab": {
          "base_uri": "https://localhost:8080/"
        },
        "id": "0HIEUftLNwWN",
        "outputId": "8e441bc7-2e8b-4673-b749-83b28910da14"
      },
      "execution_count": 38,
      "outputs": [
        {
          "output_type": "execute_result",
          "data": {
            "text/plain": [
              "((150, 4), (150, 3))"
            ]
          },
          "metadata": {},
          "execution_count": 38
        }
      ]
    },
    {
      "cell_type": "code",
      "source": [
        "class Model(nn.Module):\n",
        "    def __init__(self, n_in, n_out) -> None:\n",
        "        self.l1 = nn.Linear(n_in, 10)\n",
        "        self.l2 = nn.Linear(10, 4)\n",
        "        self.l3 = nn.Linear(4, n_out)\n",
        "\n",
        "    def __call__(self, x):\n",
        "        x = act_func.relu(self.l1(x))\n",
        "        x = act_func.relu(self.l2(x))\n",
        "        x = act_func.softmax(self.l3(x))\n",
        "        return x\n",
        "\n",
        "    def parameters(self):\n",
        "        return self.l1.parameters() + self.l2.parameters() + self.l3.parameters()\n"
      ],
      "metadata": {
        "id": "XJ3P0Mz0NyCS"
      },
      "execution_count": 39,
      "outputs": []
    },
    {
      "cell_type": "code",
      "source": [
        "losses = []\n",
        "model = Model(4, 3)\n",
        "\n",
        "lr = .09\n",
        "n_epochs = 100\n",
        "optimizer = optim.Adam(model.parameters(), lr=lr)\n",
        "\n",
        "loop = tqdm(range(n_epochs))\n",
        "\n",
        "for epoch_i in loop:\n",
        "    yHat = model(X)\n",
        "    loss = loss_func.MSELoss(Y, yHat)\n",
        "\n",
        "    model.zero_grad()\n",
        "    loss.backward()\n",
        "    optimizer.step()\n",
        "\n",
        "    losses.append(loss.data)\n",
        "    loop.set_postfix(loss=loss.data)\n"
      ],
      "metadata": {
        "colab": {
          "base_uri": "https://localhost:8080/"
        },
        "id": "6J2ANyo0N0vM",
        "outputId": "0b0720bb-34d5-4095-f4c0-97f23c11e18a"
      },
      "execution_count": 41,
      "outputs": [
        {
          "output_type": "stream",
          "name": "stderr",
          "text": [
            "100%|██████████| 100/100 [02:00<00:00,  1.21s/it, loss=0.010591423537810906]\n"
          ]
        }
      ]
    },
    {
      "cell_type": "code",
      "source": [
        "plt.plot(losses)\n",
        "plt.show()"
      ],
      "metadata": {
        "colab": {
          "base_uri": "https://localhost:8080/",
          "height": 484
        },
        "id": "BCTseAVRN67z",
        "outputId": "8e709dc4-338c-45d8-d983-5a609c3a3821"
      },
      "execution_count": 69,
      "outputs": [
        {
          "output_type": "display_data",
          "data": {
            "text/plain": [
              "<Figure size 800x550 with 1 Axes>"
            ],
            "image/png": "[encoded data removed]"
          },
          "metadata": {}
        }
      ]
    },
    {
      "cell_type": "code",
      "source": [
        "preds = model(X).to_numpy()\n",
        "preds = np.argmax(preds, axis=1)\n",
        "\n",
        "truth = np.argmax(Y.to_numpy(), axis=1)\n",
        "\n",
        "cmap = confusion_matrix(truth, preds)\n",
        "sb.heatmap(cmap, annot=True)\n",
        "plt.xlabel(\"Predicted\")\n",
        "plt.ylabel(\"Truth\")\n",
        "plt.show()\n"
      ],
      "metadata": {
        "colab": {
          "base_uri": "https://localhost:8080/",
          "height": 509
        },
        "id": "sJplJpoHN9lH",
        "outputId": "bc2a63f3-9ccc-4544-f783-cd0acc268a1d"
      },
      "execution_count": 70,
      "outputs": [
        {
          "output_type": "display_data",
          "data": {
            "text/plain": [
              "<Figure size 800x550 with 2 Axes>"
            ],
            "image/png": "[encoded data removed]"
          },
          "metadata": {}
        }
      ]
    },
    {
      "cell_type": "code",
      "source": [
        "print(classification_report(truth, preds))"
      ],
      "metadata": {
        "colab": {
          "base_uri": "https://localhost:8080/"
        },
        "id": "s5cra69LSS_v",
        "outputId": "55619c1e-f665-4efb-91df-236e7d3e9adf"
      },
      "execution_count": 71,
      "outputs": [
        {
          "output_type": "stream",
          "name": "stdout",
          "text": [
            "              precision    recall  f1-score   support\n",
            "\n",
            "           0       1.00      1.00      1.00        50\n",
            "           1       0.96      0.96      0.96        50\n",
            "           2       0.96      0.96      0.96        50\n",
            "\n",
            "    accuracy                           0.97       150\n",
            "   macro avg       0.97      0.97      0.97       150\n",
            "weighted avg       0.97      0.97      0.97       150\n",
            "\n"
          ]
        }
      ]
    },
    {
      "cell_type": "code",
      "source": [],
      "metadata": {
        "id": "Ba053z-nTVCo"
      },
      "execution_count": null,
      "outputs": []
    }
  ]
}